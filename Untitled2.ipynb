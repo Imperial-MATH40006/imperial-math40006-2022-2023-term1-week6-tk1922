{
 "cells": [
  {
   "cell_type": "code",
   "execution_count": 8,
   "id": "473c163e",
   "metadata": {},
   "outputs": [],
   "source": [
    "string1 = 'The quick brown fox jumps over the lazy dog'"
   ]
  },
  {
   "cell_type": "code",
   "execution_count": 9,
   "id": "858c815a",
   "metadata": {},
   "outputs": [
    {
     "name": "stdout",
     "output_type": "stream",
     "text": [
      "The quick brown fox jumps over the lazy dog\n"
     ]
    }
   ],
   "source": [
    "print (string1)"
   ]
  },
  {
   "cell_type": "code",
   "execution_count": 28,
   "id": "090695e7",
   "metadata": {},
   "outputs": [
    {
     "data": {
      "text/plain": [
       "'THE QUICK BROWN FOX JUMPS OVER THE LAZY DOG'"
      ]
     },
     "execution_count": 28,
     "metadata": {},
     "output_type": "execute_result"
    }
   ],
   "source": [
    "str.upper(string1)"
   ]
  },
  {
   "cell_type": "code",
   "execution_count": 29,
   "id": "b6545847",
   "metadata": {},
   "outputs": [],
   "source": [
    "tuple1 = (0+0j, 'one', 2, 3.0, 4+0j, 'five', 6, 7.0, 8+0j, 'nine', 10, 11.0, 12+0j, 'thirteen', 14, 15.0)"
   ]
  },
  {
   "cell_type": "code",
   "execution_count": 31,
   "id": "8f098980",
   "metadata": {},
   "outputs": [
    {
     "name": "stdout",
     "output_type": "stream",
     "text": [
      "(3.0, (4+0j), 'five', 6, 7.0, (8+0j), 'nine')\n"
     ]
    }
   ],
   "source": [
    "print(tuple1[3:10])"
   ]
  },
  {
   "cell_type": "code",
   "execution_count": 48,
   "id": "c2873376",
   "metadata": {},
   "outputs": [],
   "source": [
    "list1 = [0+0j, 'one', 2, 3.0, 4+0j, 'five', 6, 7.0, 8+0j, 'nine', 10, 11.0, 12+0j, 'thirteen', 14, 15.0]"
   ]
  },
  {
   "cell_type": "code",
   "execution_count": 50,
   "id": "03d8f216",
   "metadata": {},
   "outputs": [
    {
     "name": "stdout",
     "output_type": "stream",
     "text": [
      "[0j, 'one', 2, 3.0, (4+0j), 'five', 6, 7.0, (8+0j), 'nine', 10, 11.0, (12+0j), 'thirteen', 14, 15.0, (16+0j), 'seventeen', 18, 19.0]\n"
     ]
    }
   ],
   "source": [
    "list1.extend([16+0j, 'seventeen', 18, 19.0])\n",
    "print(list1)"
   ]
  },
  {
   "cell_type": "code",
   "execution_count": null,
   "id": "6ed0d1eb",
   "metadata": {},
   "outputs": [],
   "source": [
    "string3 = ' '.join(sortedlowerwords)"
   ]
  }
 ],
 "metadata": {
  "kernelspec": {
   "display_name": "Python 3 (ipykernel)",
   "language": "python",
   "name": "python3"
  },
  "language_info": {
   "codemirror_mode": {
    "name": "ipython",
    "version": 3
   },
   "file_extension": ".py",
   "mimetype": "text/x-python",
   "name": "python",
   "nbconvert_exporter": "python",
   "pygments_lexer": "ipython3",
   "version": "3.9.13"
  }
 },
 "nbformat": 4,
 "nbformat_minor": 5
}
