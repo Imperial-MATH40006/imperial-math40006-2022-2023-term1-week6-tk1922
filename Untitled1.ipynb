{
 "cells": [
  {
   "cell_type": "code",
   "execution_count": 1,
   "id": "07daef19",
   "metadata": {},
   "outputs": [],
   "source": [
    "float1 = 123.0\n",
    "complex1 = 123 + 0j"
   ]
  },
  {
   "cell_type": "code",
   "execution_count": 2,
   "id": "c0dca5f3",
   "metadata": {},
   "outputs": [
    {
     "data": {
      "text/plain": [
       "True"
      ]
     },
     "execution_count": 2,
     "metadata": {},
     "output_type": "execute_result"
    }
   ],
   "source": [
    "float1 == complex1"
   ]
  },
  {
   "cell_type": "code",
   "execution_count": 3,
   "id": "b1b7c701",
   "metadata": {},
   "outputs": [],
   "source": [
    "int1= 123"
   ]
  },
  {
   "cell_type": "code",
   "execution_count": 4,
   "id": "2814d9e2",
   "metadata": {},
   "outputs": [
    {
     "data": {
      "text/plain": [
       "(15129+0j)"
      ]
     },
     "execution_count": 4,
     "metadata": {},
     "output_type": "execute_result"
    }
   ],
   "source": [
    "int1*complex1"
   ]
  },
  {
   "cell_type": "code",
   "execution_count": 5,
   "id": "4d8f56dd",
   "metadata": {},
   "outputs": [
    {
     "data": {
      "text/plain": [
       "(1+0j)"
      ]
     },
     "execution_count": 5,
     "metadata": {},
     "output_type": "execute_result"
    }
   ],
   "source": [
    "int1/complex1"
   ]
  },
  {
   "cell_type": "code",
   "execution_count": 6,
   "id": "64e8aa8c",
   "metadata": {},
   "outputs": [
    {
     "data": {
      "text/plain": [
       "0j"
      ]
     },
     "execution_count": 6,
     "metadata": {},
     "output_type": "execute_result"
    }
   ],
   "source": [
    "int1-complex1"
   ]
  },
  {
   "cell_type": "code",
   "execution_count": 7,
   "id": "cf6a73f6",
   "metadata": {},
   "outputs": [
    {
     "data": {
      "text/plain": [
       "(246+0j)"
      ]
     },
     "execution_count": 7,
     "metadata": {},
     "output_type": "execute_result"
    }
   ],
   "source": [
    "complex1+int1"
   ]
  },
  {
   "cell_type": "code",
   "execution_count": 8,
   "id": "a5fe5e6a",
   "metadata": {},
   "outputs": [
    {
     "data": {
      "text/plain": [
       "(1+0j)"
      ]
     },
     "execution_count": 8,
     "metadata": {},
     "output_type": "execute_result"
    }
   ],
   "source": [
    "float1/complex1"
   ]
  },
  {
   "cell_type": "code",
   "execution_count": 10,
   "id": "9ffa1c9c",
   "metadata": {},
   "outputs": [
    {
     "data": {
      "text/plain": [
       "123.0"
      ]
     },
     "execution_count": 10,
     "metadata": {},
     "output_type": "execute_result"
    }
   ],
   "source": [
    "complex1.real"
   ]
  },
  {
   "cell_type": "code",
   "execution_count": 11,
   "id": "08d1963d",
   "metadata": {},
   "outputs": [
    {
     "data": {
      "text/plain": [
       "0.0"
      ]
     },
     "execution_count": 11,
     "metadata": {},
     "output_type": "execute_result"
    }
   ],
   "source": [
    "complex1.imag"
   ]
  },
  {
   "cell_type": "code",
   "execution_count": 12,
   "id": "266029c0",
   "metadata": {},
   "outputs": [
    {
     "ename": "NameError",
     "evalue": "name 'true' is not defined",
     "output_type": "error",
     "traceback": [
      "\u001b[1;31m---------------------------------------------------------------------------\u001b[0m",
      "\u001b[1;31mNameError\u001b[0m                                 Traceback (most recent call last)",
      "\u001b[1;32m~\\AppData\\Local\\Temp\\ipykernel_24356\\1517974958.py\u001b[0m in \u001b[0;36m<module>\u001b[1;34m\u001b[0m\n\u001b[1;32m----> 1\u001b[1;33m \u001b[1;36m2\u001b[0m \u001b[1;33m+\u001b[0m \u001b[0mtrue\u001b[0m\u001b[1;33m\u001b[0m\u001b[1;33m\u001b[0m\u001b[0m\n\u001b[0m",
      "\u001b[1;31mNameError\u001b[0m: name 'true' is not defined"
     ]
    }
   ],
   "source": [
    "2 + true"
   ]
  },
  {
   "cell_type": "code",
   "execution_count": 13,
   "id": "abec86b2",
   "metadata": {},
   "outputs": [
    {
     "ename": "NameError",
     "evalue": "name 'false' is not defined",
     "output_type": "error",
     "traceback": [
      "\u001b[1;31m---------------------------------------------------------------------------\u001b[0m",
      "\u001b[1;31mNameError\u001b[0m                                 Traceback (most recent call last)",
      "\u001b[1;32m~\\AppData\\Local\\Temp\\ipykernel_24356\\1187269821.py\u001b[0m in \u001b[0;36m<module>\u001b[1;34m\u001b[0m\n\u001b[1;32m----> 1\u001b[1;33m \u001b[1;36m5\u001b[0m\u001b[1;33m*\u001b[0m\u001b[0mfalse\u001b[0m\u001b[1;33m\u001b[0m\u001b[1;33m\u001b[0m\u001b[0m\n\u001b[0m",
      "\u001b[1;31mNameError\u001b[0m: name 'false' is not defined"
     ]
    }
   ],
   "source": [
    "5*false"
   ]
  },
  {
   "cell_type": "code",
   "execution_count": 17,
   "id": "538f8875",
   "metadata": {},
   "outputs": [
    {
     "data": {
      "text/plain": [
       "123"
      ]
     },
     "execution_count": 17,
     "metadata": {},
     "output_type": "execute_result"
    }
   ],
   "source": [
    "int1+(2>3)"
   ]
  },
  {
   "cell_type": "code",
   "execution_count": 18,
   "id": "0472105b",
   "metadata": {},
   "outputs": [
    {
     "data": {
      "text/plain": [
       "True"
      ]
     },
     "execution_count": 18,
     "metadata": {},
     "output_type": "execute_result"
    }
   ],
   "source": [
    "(2<3)^(2>3)"
   ]
  },
  {
   "cell_type": "code",
   "execution_count": 19,
   "id": "b1312dac",
   "metadata": {},
   "outputs": [
    {
     "data": {
      "text/plain": [
       "False"
      ]
     },
     "execution_count": 19,
     "metadata": {},
     "output_type": "execute_result"
    }
   ],
   "source": [
    "(3<4)^(2==2)"
   ]
  },
  {
   "cell_type": "code",
   "execution_count": 20,
   "id": "3ea61d55",
   "metadata": {},
   "outputs": [
    {
     "data": {
      "text/plain": [
       "1"
      ]
     },
     "execution_count": 20,
     "metadata": {},
     "output_type": "execute_result"
    }
   ],
   "source": [
    "4^5"
   ]
  },
  {
   "cell_type": "code",
   "execution_count": 21,
   "id": "9f265bf2",
   "metadata": {},
   "outputs": [
    {
     "data": {
      "text/plain": [
       "2"
      ]
     },
     "execution_count": 21,
     "metadata": {},
     "output_type": "execute_result"
    }
   ],
   "source": [
    "4^6"
   ]
  },
  {
   "cell_type": "code",
   "execution_count": 22,
   "id": "7725687e",
   "metadata": {},
   "outputs": [
    {
     "data": {
      "text/plain": [
       "3"
      ]
     },
     "execution_count": 22,
     "metadata": {},
     "output_type": "execute_result"
    }
   ],
   "source": [
    "4^7"
   ]
  },
  {
   "cell_type": "code",
   "execution_count": 23,
   "id": "ac63ce94",
   "metadata": {},
   "outputs": [
    {
     "data": {
      "text/plain": [
       "12"
      ]
     },
     "execution_count": 23,
     "metadata": {},
     "output_type": "execute_result"
    }
   ],
   "source": [
    "4^8"
   ]
  },
  {
   "cell_type": "code",
   "execution_count": 24,
   "id": "f99b9058",
   "metadata": {},
   "outputs": [
    {
     "data": {
      "text/plain": [
       "13"
      ]
     },
     "execution_count": 24,
     "metadata": {},
     "output_type": "execute_result"
    }
   ],
   "source": [
    "4^9"
   ]
  },
  {
   "cell_type": "code",
   "execution_count": 25,
   "id": "a631ea36",
   "metadata": {},
   "outputs": [
    {
     "data": {
      "text/plain": [
       "14"
      ]
     },
     "execution_count": 25,
     "metadata": {},
     "output_type": "execute_result"
    }
   ],
   "source": [
    "4^10"
   ]
  },
  {
   "cell_type": "code",
   "execution_count": 26,
   "id": "f218f344",
   "metadata": {},
   "outputs": [
    {
     "data": {
      "text/plain": [
       "0"
      ]
     },
     "execution_count": 26,
     "metadata": {},
     "output_type": "execute_result"
    }
   ],
   "source": [
    "2^2"
   ]
  },
  {
   "cell_type": "code",
   "execution_count": 27,
   "id": "69886a40",
   "metadata": {},
   "outputs": [
    {
     "data": {
      "text/plain": [
       "1"
      ]
     },
     "execution_count": 27,
     "metadata": {},
     "output_type": "execute_result"
    }
   ],
   "source": [
    "2^3"
   ]
  },
  {
   "cell_type": "code",
   "execution_count": 28,
   "id": "ddf4f25f",
   "metadata": {},
   "outputs": [
    {
     "data": {
      "text/plain": [
       "6"
      ]
     },
     "execution_count": 28,
     "metadata": {},
     "output_type": "execute_result"
    }
   ],
   "source": [
    "2^4"
   ]
  },
  {
   "cell_type": "code",
   "execution_count": 29,
   "id": "9b86fdef",
   "metadata": {},
   "outputs": [
    {
     "data": {
      "text/plain": [
       "7"
      ]
     },
     "execution_count": 29,
     "metadata": {},
     "output_type": "execute_result"
    }
   ],
   "source": [
    "2^5"
   ]
  },
  {
   "cell_type": "code",
   "execution_count": 30,
   "id": "d0b66961",
   "metadata": {},
   "outputs": [
    {
     "data": {
      "text/plain": [
       "4"
      ]
     },
     "execution_count": 30,
     "metadata": {},
     "output_type": "execute_result"
    }
   ],
   "source": [
    "2^6"
   ]
  },
  {
   "cell_type": "code",
   "execution_count": null,
   "id": "5eb27995",
   "metadata": {},
   "outputs": [],
   "source": []
  }
 ],
 "metadata": {
  "kernelspec": {
   "display_name": "Python 3 (ipykernel)",
   "language": "python",
   "name": "python3"
  },
  "language_info": {
   "codemirror_mode": {
    "name": "ipython",
    "version": 3
   },
   "file_extension": ".py",
   "mimetype": "text/x-python",
   "name": "python",
   "nbconvert_exporter": "python",
   "pygments_lexer": "ipython3",
   "version": "3.9.13"
  }
 },
 "nbformat": 4,
 "nbformat_minor": 5
}
