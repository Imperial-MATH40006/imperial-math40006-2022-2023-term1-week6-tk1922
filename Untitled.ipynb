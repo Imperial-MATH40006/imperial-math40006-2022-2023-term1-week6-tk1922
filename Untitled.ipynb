{
 "cells": [
  {
   "cell_type": "code",
   "execution_count": 1,
   "id": "4bd7dd32",
   "metadata": {},
   "outputs": [],
   "source": [
    "int1 = 123\n",
    "int2 = 456\n",
    "int3 = 789"
   ]
  },
  {
   "cell_type": "code",
   "execution_count": 2,
   "id": "b0a8d342",
   "metadata": {},
   "outputs": [],
   "source": [
    "float1 = 123.0\n",
    "float2 = 456.0\n",
    "float3 = 789.0"
   ]
  },
  {
   "cell_type": "code",
   "execution_count": 3,
   "id": "8896c2c6",
   "metadata": {},
   "outputs": [
    {
     "data": {
      "text/plain": [
       "99250068772098856700831462057469632637295940819886900519816298881382867104749399077921128661426144638055424236936271872492800352741649902118143819672601569998100120790496759517636465445895625741609866209900500198407153244604778968016963028050310261417615914468729918240685487878617645976939063464357986165711730976399478507649228686341466967167910126653342134942744851463899927487092486610977146112763567101672645953132196481439339873017088140414661271198500333255713096142335151414630651683065518784081203678487703002802082091236603519026256880624499681781387227574035484831271515683123742149095569260463609655977700938844580611931246495166208695540313698140011638027322566252689780838136351828795314272162111222231170901715612355701347552371530013693855379834865667060014643302459100429783653966913783002290784283455628283355470529932956051484477129333881159930212758687602795088579230431661696010232187390436601614145603241902386663442520160735566561"
      ]
     },
     "execution_count": 3,
     "metadata": {},
     "output_type": "execute_result"
    }
   ],
   "source": [
    "int1**int2"
   ]
  },
  {
   "cell_type": "code",
   "execution_count": 4,
   "id": "8665b20f",
   "metadata": {},
   "outputs": [
    {
     "data": {
      "text/plain": [
       "-0.45990349068959124"
      ]
     },
     "execution_count": 4,
     "metadata": {},
     "output_type": "execute_result"
    }
   ],
   "source": [
    "from math import *\n",
    "sin(int1)"
   ]
  },
  {
   "cell_type": "code",
   "execution_count": 5,
   "id": "d142e655",
   "metadata": {},
   "outputs": [
    {
     "data": {
      "text/plain": [
       "-0.45990349068959124"
      ]
     },
     "execution_count": 5,
     "metadata": {},
     "output_type": "execute_result"
    }
   ],
   "source": [
    "sin(float1)"
   ]
  },
  {
   "cell_type": "code",
   "execution_count": 6,
   "id": "0162d08b",
   "metadata": {},
   "outputs": [],
   "source": [
    "int4 = 0\n",
    "float4 = 0.0"
   ]
  },
  {
   "cell_type": "code",
   "execution_count": 7,
   "id": "bdf32593",
   "metadata": {},
   "outputs": [
    {
     "data": {
      "text/plain": [
       "1.0"
      ]
     },
     "execution_count": 7,
     "metadata": {},
     "output_type": "execute_result"
    }
   ],
   "source": [
    "cos(int4)"
   ]
  },
  {
   "cell_type": "code",
   "execution_count": 8,
   "id": "1b132d8e",
   "metadata": {},
   "outputs": [],
   "source": [
    "complex1 = 1+2j"
   ]
  },
  {
   "cell_type": "code",
   "execution_count": 9,
   "id": "ca1cfbfe",
   "metadata": {},
   "outputs": [
    {
     "data": {
      "text/plain": [
       "(1+0j)"
      ]
     },
     "execution_count": 9,
     "metadata": {},
     "output_type": "execute_result"
    }
   ],
   "source": [
    "complex1 - 2j"
   ]
  },
  {
   "cell_type": "code",
   "execution_count": 10,
   "id": "919394f7",
   "metadata": {},
   "outputs": [],
   "source": [
    "complex2 = 123+0j"
   ]
  },
  {
   "cell_type": "code",
   "execution_count": 11,
   "id": "03280fb5",
   "metadata": {},
   "outputs": [
    {
     "data": {
      "text/plain": [
       "True"
      ]
     },
     "execution_count": 11,
     "metadata": {},
     "output_type": "execute_result"
    }
   ],
   "source": [
    "complex2 == int1"
   ]
  },
  {
   "cell_type": "code",
   "execution_count": null,
   "id": "0a12e8e0",
   "metadata": {},
   "outputs": [],
   "source": []
  }
 ],
 "metadata": {
  "kernelspec": {
   "display_name": "Python 3 (ipykernel)",
   "language": "python",
   "name": "python3"
  },
  "language_info": {
   "codemirror_mode": {
    "name": "ipython",
    "version": 3
   },
   "file_extension": ".py",
   "mimetype": "text/x-python",
   "name": "python",
   "nbconvert_exporter": "python",
   "pygments_lexer": "ipython3",
   "version": "3.9.13"
  }
 },
 "nbformat": 4,
 "nbformat_minor": 5
}
